{
 "cells": [
  {
   "cell_type": "markdown",
   "metadata": {},
   "source": [
    "## Strings\n",
    "* old_string = \"hello_world\"\n",
    "* len: length of the string. len(old_string)-> 11\n",
    "* old_string[0]: Accessing the 0th character -> h\n",
    "* old_string[-1]: Accessing the last character. Assume the string is a circular list. then the last character precedes the character at position 0. -> d\n",
    "* Strings are immutable\n",
    "* Concatenation: use \"+\". new_string = old_string + new_character ->hello_worldhi\n",
    "* Multiple string concatenation: use \"*\". new_string_repeated_five_times = old_string * 5 -> hello_worldhello_worldhello_worldhello_worldhello_world\n",
    "* split: split the string by the given character. Eg., hello_world.split(\"o\") -> [\"hell\",\"w\",rld\"]\n",
    "* slicing:\n",
    "  * old_string[:2] -> return the word till n-1 character. -> he\n",
    "  * old_string[2:] -> return the word from 2nd character to end. ->llo_world\n",
    "  * old_string[::2] -> returns the whole word. skips every 2nd character ->  hlowrd\n",
    "\n"
   ]
  },
  {
   "cell_type": "markdown",
   "metadata": {},
   "source": [
    "## Numbers\n",
    "* Operators\n",
    "    * +,-,/,%"
   ]
  },
  {
   "cell_type": "markdown",
   "metadata": {},
   "source": [
    "## List\n",
    "* Many of the string operators can be operated on top of a list. \n",
    "    * Eg. len, +, * , slicing, splitting, \n",
    "* old_list = [1, 5, 6, 2]\n",
    "* append: appends a number to the end of the list. old_list.append(3) -> [1, 5, 6, 2, 3]\n",
    "* pop: pops the last number. old_list.pop() -> 3\n",
    "* sort: sorts the list \n",
    "* reverse: reverses the list\n"
   ]
  },
  {
   "cell_type": "markdown",
   "metadata": {},
   "source": [
    "## Dictionaries\n",
    "* Key value pairs\n",
    "* Unordered and not sorted\n",
    "* prices = {\"apple\":\"5\", \"orange\": \"10\"}\n",
    "* Gets values of the key: prices[\"orange\"]\n",
    "* We can store list or another dictionary inside a dictionary -> dict = {\"k1\":[0,1,2],\"k2\":{\"inside_k1\":\"inside_val1\"}}\n",
    "* Accessing inside value in a dictionary: dict[\"k2\"][\"inside_k1\"]\n",
    "* Adding a new value to keypair: dict[\"k3\"]=\"hello\"\n",
    "* traversing keys: d.keys(), d.values()\n",
    "* getting tupes: d.items() -> (\"k1\",[0,1,2]), (\"k2\", {\"inside_k1\":\"inside_val1\"})\n",
    "\n"
   ]
  },
  {
   "cell_type": "markdown",
   "metadata": {},
   "source": [
    "## Tuples\n",
    "* Immutable: Data integrity. Makes sure the element is not reassigned.\n",
    "* Uses parenthesis instead of square bracket. t=(1,2)\n",
    "* t.count(\"a\") -> counts the number of terms a value occurs. \n",
    "* t.index(\"a\") -> returns the first index of the value\n"
   ]
  },
  {
   "cell_type": "code",
   "execution_count": 28,
   "metadata": {},
   "outputs": [
    {
     "data": {
      "text/plain": [
       "3"
      ]
     },
     "execution_count": 28,
     "metadata": {},
     "output_type": "execute_result"
    }
   ],
   "source": [
    "#String\n",
    "old_string = \"hello_world\"\n",
    "len(old_string)\n",
    "old_string[0]\n",
    "old_string[-1]\n",
    "new_character = \"hi\"\n",
    "new_string = old_string + new_character\n",
    "new_string\n",
    "new_string_repeated_five_times = old_string * 5\n",
    "new_string_repeated_five_times\n",
    "old_string[:2]\n",
    "old_string[2:]\n",
    "old_string[:]\n",
    "old_string[::2]\n",
    "\n",
    "#List\n",
    "old_list = [1, 5, 6, 2]\n",
    "old_list.append(3)\n",
    "old_list.pop()\n",
    "old_list.sort()\n",
    "old_list\n",
    "\n",
    "# Dictionaries\n",
    "prices = {\"apple\":\"5\", \"orange\": \"10\"}\n",
    "prices[\"orange\"]\n",
    "dict = {\"k1\":[0,1,2],\"k2\":{\"inside_k1\":\"inside_val1\"}}\n",
    "dict[\"k2\"][\"inside_k1\"]\n",
    "dict.items()\n",
    "\n",
    "#tuples\n",
    "tuple = (1, 2, 3, 1,1 )\n",
    "tuple.count(1)"
   ]
  }
 ],
 "metadata": {
  "kernelspec": {
   "display_name": "Python 3",
   "language": "python",
   "name": "python3"
  },
  "language_info": {
   "codemirror_mode": {
    "name": "ipython",
    "version": 3
   },
   "file_extension": ".py",
   "mimetype": "text/x-python",
   "name": "python",
   "nbconvert_exporter": "python",
   "pygments_lexer": "ipython3",
   "version": "3.8.2"
  }
 },
 "nbformat": 4,
 "nbformat_minor": 4
}
