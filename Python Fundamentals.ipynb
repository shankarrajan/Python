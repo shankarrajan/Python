{
 "cells": [
  {
   "cell_type": "markdown",
   "metadata": {},
   "source": [
    "## Strings\n",
    "* old_string = \"hello_world\"\n",
    "* len: length of the string. len(old_string)-> 11\n",
    "* old_string[0]: Accessing the 0th character -> h\n",
    "* old_string[-1]: Accessing the last character. Assume the string is a circular list. then the last character precedes the character at position 0. -> d\n",
    "* Strings are immutable\n",
    "* Concatenation: use \"+\". new_string = old_string + new_character ->hello_worldhi\n",
    "* Multiple string concatenation: use \"*\". new_string_repeated_five_times = old_string * 5 -> hello_worldhello_worldhello_worldhello_worldhello_world\n",
    "* split: split the string by the given character. Eg., hello_world.split(\"o\") -> [\"hell\",\"w\",rld\"]\n",
    "* slicing:\n",
    "  * old_string[:2] -> return the word till n-1 character. -> he\n",
    "  * old_string[2:] -> return the word from 2nd character to end. ->llo_world\n",
    "  * old_string[::2] -> returns the whole word. skips every 2nd character ->  hlowrd\n",
    "\n"
   ]
  },
  {
   "cell_type": "markdown",
   "metadata": {},
   "source": [
    "## Numbers\n",
    "* Operators\n",
    "    * +,-,/,%"
   ]
  },
  {
   "cell_type": "markdown",
   "metadata": {},
   "source": [
    "## List\n",
    "* Many of the string operators can be operated on top of a list. \n",
    "    * Eg. len, +, * , slicing, splitting, \n",
    "* old_list = [1, 5, 6, 2]\n",
    "* append: appends a number to the end of the list. old_list.append(3) -> [1, 5, 6, 2, 3]\n",
    "* pop: pops the last number. old_list.pop() -> 3\n",
    "* sort: sorts the list \n",
    "* reverse: reverses the list\n"
   ]
  },
  {
   "cell_type": "markdown",
   "metadata": {},
   "source": [
    "## Dictionaries\n",
    "* Key value pairs\n",
    "* Unordered and not sorted\n",
    "* prices = {\"apple\":\"5\", \"orange\": \"10\"}\n",
    "* Gets values of the key: prices[\"orange\"]\n",
    "* We can store list or another dictionary inside a dictionary -> dict = {\"k1\":[0,1,2],\"k2\":{\"inside_k1\":\"inside_val1\"}}\n",
    "* Accessing inside value in a dictionary: dict[\"k2\"][\"inside_k1\"]\n",
    "* Adding a new value to keypair: dict[\"k3\"]=\"hello\"\n",
    "* traversing keys: d.keys(), d.values()\n",
    "* getting tupes: d.items() -> (\"k1\",[0,1,2]), (\"k2\", {\"inside_k1\":\"inside_val1\"})\n",
    "\n"
   ]
  },
  {
   "cell_type": "markdown",
   "metadata": {},
   "source": [
    "## Tuples\n",
    "* Immutable: Data integrity. Makes sure the element is not reassigned.\n",
    "* Uses parenthesis instead of square bracket. t=(1,2,1,1)\n",
    "* t.count(\"1\") -> counts the number of terms a value occurs. -> 3\n",
    "* t.index(\"1\") -> returns the first index of the value ->0\n"
   ]
  },
  {
   "cell_type": "markdown",
   "metadata": {},
   "source": [
    "## Sets\n",
    "* Unordered collection of unique elements\n",
    "* myset = set()\n",
    "* myset.add(1)\n",
    "* Casting a list to set\n",
    "  * set(mylist). \n",
    "* There is no order in which values are stored. \n",
    "\n",
    "## Booleans\n",
    "* True or False\n",
    "* 1>2, 1==2, \n"
   ]
  },
  {
   "cell_type": "markdown",
   "metadata": {},
   "source": [
    "## Files\n",
    "* myfile = open('myfile.txt')\n",
    "* myfile.read(). It uses a cursor to read the file. So running the file again using myfile.read() will print nothing. \n",
    "  * myfile.seek(0)\n",
    "  * contents = myfile.read()\n",
    "* myfile.readlines()\n",
    "* open(\"/Users/YourUserName/hi.txt\")\n",
    "* myfile.close() to close the file. \n",
    "* Instead of open and close, with open(\"myfile.txt\") as new_file (No need to close the file)\n",
    "* with open(\"hi.txt\",mode=\"w/a/r/r+/w+\") as myfile:\n",
    "    contents = myfile.write()\n"
   ]
  },
  {
   "cell_type": "markdown",
   "metadata": {},
   "source": [
    "## Comparison operators\n",
    "* ==, !=, >,<\n",
    "## Logical Operators\n",
    "* 1<2>3 <- false\n",
    "* 1<2 and 2<3\n",
    "* or, and, not"
   ]
  },
  {
   "cell_type": "markdown",
   "metadata": {},
   "source": [
    "## If, elif, else\n",
    "* uses indentation\n",
    "* if some_condition:\n",
    "      #execute some code\n",
    "* if 3>2:\n",
    "    print(\"Its true\")\n",
    "* elif 3>5:\n",
    "* else\n",
    "  "
   ]
  },
  {
   "cell_type": "markdown",
   "metadata": {},
   "source": [
    "## Looping:\n",
    "### for loop:\n",
    "* for i in value:\n",
    "    print \"good\"\n",
    "* for num in list:\n",
    "      if num % 2 ==0:\n",
    "          print(\"Even number:{num}\")\n",
    "* In tuples (Tuple unpacking): mylist = [(1,2), (3,4)]\n",
    "    * for (a,b) in mylist:\n",
    "        * print(a)\n",
    "* In dictionary: d = {'k1':1, 'k2':2}\n",
    "    * for key,value in d.items():\n",
    "        * print(value)\n",
    "\n",
    "### while loop:\n",
    "* while boolean:\n",
    "    * do something\n",
    "* else:\n",
    "     * do something else\n"
   ]
  },
  {
   "cell_type": "markdown",
   "metadata": {},
   "source": [
    "## pass, break and continue\n",
    "* pass: used as a placeholder\n",
    "    * eg., for i in loop:\n",
    "                pass\n",
    "* continue: goes to top\n",
    "* break: breaks the loop."
   ]
  },
  {
   "cell_type": "markdown",
   "metadata": {},
   "source": [
    "## Range operator\n",
    "* for num in range(10) -> 0 to 9\n",
    "* for num in range(3,8) -> \n",
    "* for num in range(0,10,2) -> 0, 2, 4, 6, 8\n",
    "* Range operator to list operator\n",
    "    * list(range(0,11,2))\n",
    "* for index,letter in enumerate(\"abcde\")\n",
    "* zip function to combine multiple lists\n",
    "* 'x' in ['x','y','z']\n",
    "\n",
    "## other useful functions\n",
    "* min\n",
    "* max\n",
    "* from random import shuffle\n",
    "    * shuffle(mylist)\n",
    "* from random import randint\n",
    "* input -> result = input(\"what is your name\")\n",
    "* float(result)\n",
    "* int(result)"
   ]
  },
  {
   "cell_type": "code",
   "execution_count": 28,
   "metadata": {},
   "outputs": [
    {
     "data": {
      "text/plain": [
       "3"
      ]
     },
     "execution_count": 28,
     "metadata": {},
     "output_type": "execute_result"
    }
   ],
   "source": [
    "#String\n",
    "\n",
    "old_string = \"hello_world\"\n",
    "len(old_string)\n",
    "old_string[0]\n",
    "old_string[-1]\n",
    "new_character = \"hi\"\n",
    "new_string = old_string + new_character\n",
    "new_string\n",
    "new_string_repeated_five_times = old_string * 5\n",
    "new_string_repeated_five_times\n",
    "old_string[:2]\n",
    "old_string[2:]\n",
    "old_string[:]\n",
    "old_string[::2]\n",
    "\n",
    "#List\n",
    "old_list = [1, 5, 6, 2]\n",
    "old_list.append(3)\n",
    "old_list.pop()\n",
    "old_list.sort()\n",
    "old_list\n",
    "\n",
    "# Dictionaries\n",
    "prices = {\"apple\":\"5\", \"orange\": \"10\"}\n",
    "prices[\"orange\"]\n",
    "dict = {\"k1\":[0,1,2],\"k2\":{\"inside_k1\":\"inside_val1\"}}\n",
    "dict[\"k2\"][\"inside_k1\"]\n",
    "dict.items()\n",
    "\n",
    "#tuples\n",
    "tuple = (1, 2, 3, 1,1 )\n",
    "tuple.count(1)\n"
   ]
  },
  {
   "cell_type": "code",
   "execution_count": 5,
   "metadata": {},
   "outputs": [
    {
     "data": {
      "text/plain": [
       "{0, 1, 2}"
      ]
     },
     "execution_count": 5,
     "metadata": {},
     "output_type": "execute_result"
    }
   ],
   "source": [
    "#sets\n",
    "myset= set()\n",
    "myset\n",
    "myset.add(1)\n",
    "myset\n",
    "mylist = [2,0,1,2,0,1]\n",
    "mylist\n",
    "myset= set(mylist)\n",
    "myset\n",
    "\n",
    "#while loop\n",
    "x = 0\n",
    "while x<5:\n",
    "    print(x)\n",
    "    x+=1\n",
    "else:\n",
    "    print(\"x not less than 5\")"
   ]
  }
 ],
 "metadata": {
  "kernelspec": {
   "display_name": "Python 3",
   "language": "python",
   "name": "python3"
  },
  "language_info": {
   "codemirror_mode": {
    "name": "ipython",
    "version": 3
   },
   "file_extension": ".py",
   "mimetype": "text/x-python",
   "name": "python",
   "nbconvert_exporter": "python",
   "pygments_lexer": "ipython3",
   "version": "3.8.2"
  }
 },
 "nbformat": 4,
 "nbformat_minor": 4
}
